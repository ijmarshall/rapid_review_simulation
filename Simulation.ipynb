{
 "cells": [
  {
   "cell_type": "code",
   "execution_count": 1,
   "metadata": {
    "collapsed": true
   },
   "outputs": [],
   "source": [
    "#\n",
    "#    Statistical and charting code used to produce\n",
    "#    'Do rapid review methods for study identification affect meta-analysis results?—a simulation study'\n",
    "#    Iain Marshall (mail@ijmarshall.com)\n",
    "#"
   ]
  },
  {
   "cell_type": "code",
   "execution_count": 70,
   "metadata": {
    "collapsed": true
   },
   "outputs": [],
   "source": [
    "# imports\n",
    "\n",
    "import json\n",
    "import numpy as np\n",
    "import rpy2.robjects as robjects\n",
    "from rpy2.robjects.packages import importr\n",
    "import rpy2.robjects.numpy2ri\n",
    "rpy2.robjects.numpy2ri.activate()\n",
    "import math\n",
    "from collections import defaultdict, Counter, OrderedDict\n",
    "import tqdm\n",
    "import pandas as pd"
   ]
  },
  {
   "cell_type": "code",
   "execution_count": 25,
   "metadata": {
    "collapsed": true
   },
   "outputs": [],
   "source": [
    "# load data\n",
    "\n",
    "with open('../data/meta_analyses.json', 'r') as f:\n",
    "    data = json.load(f)"
   ]
  },
  {
   "cell_type": "code",
   "execution_count": 123,
   "metadata": {},
   "outputs": [
    {
     "name": "stdout",
     "output_type": "stream",
     "text": [
      "Number of meta-analyses: 2358\n",
      "Median studies per meta-analysis (IQR): 3.0 (2.0–7.0)\n",
      "Total number of studies: 14861\n",
      "Median sample size per study (IQR): 101.0 (52.0–247.0)\n",
      "Median sample size per MA (IQR): 538.0 (168.0–1612.25)\n"
     ]
    }
   ],
   "source": [
    "# descriptive statistics\n",
    "\n",
    "total_ma = len(data)\n",
    "\n",
    "print(\"Number of meta-analyses:\", total_ma)\n",
    "\n",
    "median_studies_ma = np.percentile([len(r['study_data']) for r in data], [50, 25, 75])\n",
    "print(\"Median studies per meta-analysis (IQR): {} ({}–{})\".format(*median_studies_ma))\n",
    "\n",
    "# median study size\n",
    "study_sizes = [(int(study['int_total']) + int(study['cnt_total'])) for sublist in data for study in sublist['study_data']]\n",
    "total_studies = len(study_sizes)\n",
    "print(\"Total number of studies:\", total_studies)\n",
    "\n",
    "print(\"Median sample size per study (IQR): {} ({}–{})\".format(*np.percentile(study_sizes, [50, 25, 75])))\n",
    "\n",
    "# median sample per MA\n",
    "study_sizes = [sum([(int(study['int_total']) + int(study['cnt_total'])) for study in row['study_data']]) for row in data]\n",
    "print(\"Median sample size per MA (IQR): {} ({}–{})\".format(*np.percentile(study_sizes, [50, 25, 75])))"
   ]
  },
  {
   "cell_type": "code",
   "execution_count": 124,
   "metadata": {},
   "outputs": [
    {
     "name": "stdout",
     "output_type": "stream",
     "text": [
      "\n",
      "** RevMan 5 settings already in used (R package meta). **\n",
      "\n",
      "\n"
     ]
    },
    {
     "data": {
      "text/html": [
       "\n",
       "    <span>ListVector with 66 elements.</span>\n",
       "    <table>\n",
       "      <tbody>\n",
       "      \n",
       "      <tr>\n",
       "      <th>\n",
       "        level\n",
       "      </th>\n",
       "      <td>\n",
       "        \n",
       "    <span>FloatVector with 1 elements.</span>\n",
       "    <table>\n",
       "      <tbody>\n",
       "      <tr>\n",
       "      \n",
       "      <td>\n",
       "        0.950000\n",
       "      </td>\n",
       "      \n",
       "      </tr>\n",
       "      </tbody>\n",
       "    </table>\n",
       "    \n",
       "      </td>\n",
       "      </tr>\n",
       "      \n",
       "      <tr>\n",
       "      <th>\n",
       "        level.comb\n",
       "      </th>\n",
       "      <td>\n",
       "        \n",
       "    <span>FloatVector with 1 elements.</span>\n",
       "    <table>\n",
       "      <tbody>\n",
       "      <tr>\n",
       "      \n",
       "      <td>\n",
       "        0.950000\n",
       "      </td>\n",
       "      \n",
       "      </tr>\n",
       "      </tbody>\n",
       "    </table>\n",
       "    \n",
       "      </td>\n",
       "      </tr>\n",
       "      \n",
       "      <tr>\n",
       "      <th>\n",
       "        comb.fixed\n",
       "      </th>\n",
       "      <td>\n",
       "        \n",
       "    <span>BoolVector with 1 elements.</span>\n",
       "    <table>\n",
       "      <tbody>\n",
       "      <tr>\n",
       "      \n",
       "      <td>\n",
       "               1\n",
       "      </td>\n",
       "      \n",
       "      </tr>\n",
       "      </tbody>\n",
       "    </table>\n",
       "    \n",
       "      </td>\n",
       "      </tr>\n",
       "      \n",
       "      <tr>\n",
       "      <th>\n",
       "        ...\n",
       "      </th>\n",
       "      <td>\n",
       "        ...\n",
       "      </td>\n",
       "      </tr>\n",
       "      \n",
       "      <tr>\n",
       "      <th>\n",
       "        test.subgroup\n",
       "      </th>\n",
       "      <td>\n",
       "        \n",
       "    <span>BoolVector with 1 elements.</span>\n",
       "    <table>\n",
       "      <tbody>\n",
       "      <tr>\n",
       "      \n",
       "      <td>\n",
       "               1\n",
       "      </td>\n",
       "      \n",
       "      </tr>\n",
       "      </tbody>\n",
       "    </table>\n",
       "    \n",
       "      </td>\n",
       "      </tr>\n",
       "      \n",
       "      <tr>\n",
       "      <th>\n",
       "        test.effect.subgroup\n",
       "      </th>\n",
       "      <td>\n",
       "        \n",
       "    <span>BoolVector with 1 elements.</span>\n",
       "    <table>\n",
       "      <tbody>\n",
       "      <tr>\n",
       "      \n",
       "      <td>\n",
       "               1\n",
       "      </td>\n",
       "      \n",
       "      </tr>\n",
       "      </tbody>\n",
       "    </table>\n",
       "    \n",
       "      </td>\n",
       "      </tr>\n",
       "      \n",
       "      <tr>\n",
       "      <th>\n",
       "        digits.forest\n",
       "      </th>\n",
       "      <td>\n",
       "        \n",
       "    <span>FloatVector with 1 elements.</span>\n",
       "    <table>\n",
       "      <tbody>\n",
       "      <tr>\n",
       "      \n",
       "      <td>\n",
       "        2.000000\n",
       "      </td>\n",
       "      \n",
       "      </tr>\n",
       "      </tbody>\n",
       "    </table>\n",
       "    \n",
       "      </td>\n",
       "      </tr>\n",
       "      \n",
       "      </tbody>\n",
       "    </table>\n",
       "    "
      ],
      "text/plain": [
       "R object with classes: ('list',) mapped to:\n",
       "<ListVector - Python:0x7f7833f63d88 / R:0x55efebfa6490>\n",
       "[FloatVector, FloatVector, BoolVector, BoolVector, ..., BoolVector, BoolVector, BoolVector, FloatVector]\n",
       "  level: <class 'rpy2.robjects.vectors.FloatVector'>\n",
       "  R object with classes: ('numeric',) mapped to:\n",
       "<FloatVector - Python:0x7f7833ce0688 / R:0x55efeb57ef08>\n",
       "[0.950000]\n",
       "  level.comb: <class 'rpy2.robjects.vectors.FloatVector'>\n",
       "  R object with classes: ('numeric',) mapped to:\n",
       "<FloatVector - Python:0x7f7833cdcdc8 / R:0x55efeb57eed8>\n",
       "[0.950000]\n",
       "  comb.fixed: <class 'rpy2.robjects.vectors.BoolVector'>\n",
       "  R object with classes: ('logical',) mapped to:\n",
       "<BoolVector - Python:0x7f7833f58b48 / R:0x55efeb57eea8>\n",
       "[       1]\n",
       "  comb.random: <class 'rpy2.robjects.vectors.BoolVector'>\n",
       "  R object with classes: ('logical',) mapped to:\n",
       "<BoolVector - Python:0x7f7833f58648 / R:0x55efeb57ee78>\n",
       "[       1]\n",
       "...\n",
       "  method.tau: <class 'rpy2.robjects.vectors.BoolVector'>\n",
       "  R object with classes: ('logical',) mapped to:\n",
       "<BoolVector - Python:0x7f7833f58dc8 / R:0x55efec832e98>\n",
       "[       1]\n",
       "  tau.common: <class 'rpy2.robjects.vectors.BoolVector'>\n",
       "  R object with classes: ('logical',) mapped to:\n",
       "<BoolVector - Python:0x7f7833f58fc8 / R:0x55efec839b18>\n",
       "[       1]\n",
       "  prediction: <class 'rpy2.robjects.vectors.BoolVector'>\n",
       "  R object with classes: ('logical',) mapped to:\n",
       "<BoolVector - Python:0x7f7833f64488 / R:0x55efec8401b8>\n",
       "[       1]\n",
       "  level.predict: <class 'rpy2.robjects.vectors.FloatVector'>\n",
       "  R object with classes: ('numeric',) mapped to:\n",
       "<FloatVector - Python:0x7f7833f64808 / R:0x55efeb591318>\n",
       "[2.000000]"
      ]
     },
     "execution_count": 124,
     "metadata": {},
     "output_type": "execute_result"
    }
   ],
   "source": [
    "# load/setup the 'meta' package in R\n",
    "meta = importr('meta')\n",
    "meta.settings_meta(\"revman5\")"
   ]
  },
  {
   "cell_type": "code",
   "execution_count": 125,
   "metadata": {
    "collapsed": true
   },
   "outputs": [],
   "source": [
    "# functions for calling 'meta' via R\n",
    "\n",
    "def do_meta(study_data, units, method, swap_events):\n",
    "    m = lambda x: robjects.IntVector([int(r[x]) for r in study_data])\n",
    "    event_e = m('int_events')\n",
    "    n_e = m('int_total')\n",
    "    event_c = m('cnt_events')\n",
    "    n_c = m('cnt_total')\n",
    "    \n",
    "    if swap_events:\n",
    "        event_e = n_e.ro - event_e\n",
    "        event_c = n_c.ro - event_c\n",
    "        \n",
    "    return meta.metabin(event_e, n_e, event_c, n_c, sm=units, RR_cochrane=True, method=method)\n",
    "\n",
    "\n",
    "\n",
    "def get_stats_from_r(meta_out, units, random_str):\n",
    "    m = lambda x: meta_out.rx(\"{}.{}\".format(x, random_str))[0][0]\n",
    "    em = lambda x: math.exp(m(x))    \n",
    "    num_studies = len(meta_out.rx('n.e')[0])\n",
    "    i2 = meta_out.rx('I2')[0][0]\n",
    "    return {'point': em('TE'), 'lower': em('lower'), 'upper': em('upper'), 'num_studies': num_studies, 'I2': i2}\n",
    "    "
   ]
  },
  {
   "cell_type": "code",
   "execution_count": 459,
   "metadata": {
    "collapsed": true
   },
   "outputs": [],
   "source": [
    "# functions for classifying changes in meta-analyses\n",
    "\n",
    "\n",
    "def quant_sig(res1, res2):\n",
    "    \n",
    "    # work out change in significance\n",
    "    # res1 = sr result, res2 = sim rr result\n",
    "    \n",
    "    def _sig(r):\n",
    "        if r['lower'] > 1.0:\n",
    "            return 1 # significant increase\n",
    "        elif r['upper'] < 1.0:\n",
    "            return -1 # significant reduction\n",
    "        else:\n",
    "            return 0\n",
    "    \n",
    "    s1 = _sig(res1)\n",
    "    s2 = _sig(res2)\n",
    "    \n",
    "    if s1 == s2:\n",
    "        return 'No change'\n",
    "    elif s1 != 0 and s2 == 0:\n",
    "        return 'Significant to non-significant'\n",
    "    elif s1 * s2 == -1:\n",
    "        return 'Change in effect direction'\n",
    "    elif s1 == 0 and s2 != 0:\n",
    "        return 'Non-significant to significant'\n",
    "    else:\n",
    "        raise('Unhandled significance s1={} s2={}'.format(s1, s2))\n",
    "\n",
    "\n",
    "def sig_text(r):\n",
    "    if r['lower'] > 1.0:\n",
    "        return \"Significant\" # significant increase\n",
    "    elif r['upper'] < 1.0:\n",
    "        return \"Significant\" # significant reduction\n",
    "    else:\n",
    "        return \"Non significant\"\n",
    "    \n",
    "    \n",
    "        \n",
    "def quant_flow(res1, res2):\n",
    "    # work out significance changes for Sankey diagrams\n",
    "    \n",
    "    \n",
    "    def _sig(r):\n",
    "        if r['lower'] > 1.0:\n",
    "            return 1 # significant increase\n",
    "        elif r['upper'] < 1.0:\n",
    "            return -1 # significant reduction\n",
    "        else:\n",
    "            return 0\n",
    "    \n",
    "    s1 = _sig(res1)\n",
    "    s2 = _sig(res2)\n",
    "    \n",
    "    if (s1 == s2) and (s1 != 0):\n",
    "        return {\"Systematic review\": \"Significant\", \"Rapid review\": \"Significant\"}\n",
    "    elif (s1 == s2) and (s1 == 0):\n",
    "        return {\"Systematic review\": \"Non significant\", \"Rapid review\": \"Non significant\"}\n",
    "    elif (s1 != 0) and (s2 == 0):\n",
    "        return {\"Systematic review\": \"Significant\", \"Rapid review\": \"Non significant\"}\n",
    "    elif (s1 == 0) and (s2 != 0):\n",
    "        return {\"Systematic review\": \"Non significant\", \"Rapid review\": \"Significant\"}\n",
    "    elif (s1 != s2):\n",
    "        return {\"Systematic review\": \"Significant\", \"Rapid review\": \"Significant change in direction\"}\n",
    "    else:\n",
    "        raise('Unhandled significance s1={} s2={}'.format(s1, s2))\n",
    "        \n",
    "        \n",
    "    \n",
    "def quant_change(res1, res2):\n",
    "    # return effect sze chanfes\n",
    "    \n",
    "    # if nan's then the sensitivity analysis is not calculable (i.e. no events)\n",
    "    # this shouldn't happen since zero events would not be sent here\n",
    "    # 'Not calculable' in the results therefore would indicate a bug\n",
    "    if math.isnan(res2['point']):\n",
    "        return \"Not calculable\"\n",
    "    \n",
    "    \n",
    "    sig = quant_sig(res1, res2)\n",
    "    \n",
    "    \n",
    "    # if there is a signifcance change, this is returned first\n",
    "    if sig != 'No change':\n",
    "        return sig\n",
    "    \n",
    "    # where no change in significance, go on to calculate effect size changes\n",
    "    \n",
    "    if all([res1[k]==res2[k] for k in ['point', 'lower', 'upper']]):\n",
    "        return 'No important change' # results identical\n",
    "\n",
    "    # if results not identical work out size of difference in log OR\n",
    "    logpoint1 = math.log1p(res1['point'])\n",
    "    logpoint2 = math.log1p(res2['point'])\n",
    "    logdiff = abs(logpoint2-logpoint1)\n",
    "    \n",
    "    #     sd_effect_size_cdsr = 0.3591098412 from original calculations\n",
    "    #     cohen's 0.2, 0.5, and 0.8 SD cutoffs\n",
    "    #     rounded/aligned to other studies, making 5%, 20%, and 30%\n",
    "      \n",
    "    if logdiff < math.log(1.05):\n",
    "        return 'No important change'\n",
    "    elif logdiff < math.log(1.20):\n",
    "        return 'Small'\n",
    "    elif logdiff < math.log(1.30):\n",
    "        return 'Moderate'\n",
    "    else:\n",
    "        return 'Large'\n",
    "    "
   ]
  },
  {
   "cell_type": "code",
   "execution_count": 460,
   "metadata": {
    "collapsed": true
   },
   "outputs": [],
   "source": [
    "# the simulation codes in the data\n",
    "sim_codes = [\"pubmed_only\",  \"search_max_5yr\", \"search_max_7yr\", \"search_max_10yr\", \"search_max_15yr\", \"search_max_20yr\", \"sample_min_50\", \"sample_min_100\", \"sample_min_200\", \"largest_trial\"]\n",
    "sim_titles = ['Search PubMed only', 'Search 5 years', 'Search 7 years', 'Search 10 years', 'Search 15 years', 'Search 20 years', 'Exclude <50 people', 'Exclude <100 people', 'Exclude <200 people', 'Largest trial only']\n",
    "\n",
    "# the bias domains to assess\n",
    "domains = ['Random sequence generation', 'Allocation concealment', 'Blinding of participants and personnel', 'Blinding of outcome assessment']\n",
    "\n",
    "# change category ordering\n",
    "change_cats = ['No important change', 'Small', 'Moderate', 'Large', 'Significant to non-significant', 'Non-significant to significant', 'Change in effect direction', 'All events lost', 'All studies lost']"
   ]
  },
  {
   "cell_type": "code",
   "execution_count": 461,
   "metadata": {},
   "outputs": [
    {
     "name": "stderr",
     "output_type": "stream",
     "text": [
      "100%|██████████| 2358/2358 [01:57<00:00, 20.12it/s]\n"
     ]
    }
   ],
   "source": [
    "# run the meta-analyses\n",
    "\n",
    "results = defaultdict(Counter)\n",
    "sig_flow = defaultdict(list)\n",
    "\n",
    "char_includes = {s: {\"included\": [], \"total\": []} for s in sim_codes}\n",
    "char_bias = {s: {d: {\"included\": [], \"excluded\": []} for d in domains} for s in sim_codes}\n",
    "char_sample_size = {s: {\"included\": [], \"excluded\": []} for s in sim_codes}\n",
    "\n",
    "\n",
    "for ma in tqdm.tqdm(data):\n",
    "    \n",
    "    baseline_r = do_meta(ma['study_data'], 'OR', ma['method'], ma['swap_events'])\n",
    "    baseline = get_stats_from_r(baseline_r, 'OR', ma['random'])\n",
    "    \n",
    "    for sim_method in sim_codes:\n",
    "        \n",
    "        included_data = [s for s in ma['study_data'] if s[sim_method]]\n",
    "        excluded_data = [s for s in ma['study_data'] if not s[sim_method]]\n",
    "        \n",
    "        # raw numbers\n",
    "        char_includes[sim_method][\"included\"].append(len(included_data))\n",
    "        char_includes[sim_method][\"total\"].append(len(ma['study_data']))\n",
    "        \n",
    "        \n",
    "        if len(included_data)==0:\n",
    "            # no studies left\n",
    "            results[sim_method]['All studies lost'] += 1\n",
    "            \n",
    "            sig_flow[sim_method].append({\"Systematic review\": sig_text(baseline),  \"Rapid review\": \"All data lost\"})\n",
    "            \n",
    "        elif sum([(int(r['int_events']) + int(r['cnt_events'])) for r in included_data])==0:\n",
    "            # studies left, but have 0 events in them\n",
    "            results[sim_method]['All events lost'] += 1\n",
    "            sig_flow[sim_method].append({\"Systematic review\": sig_text(baseline),  \"Rapid review\": \"All data lost\"})\n",
    "            \n",
    "        else:\n",
    "            # re-run the meta-analyses on the remainder\n",
    "            sim_r = do_meta(included_data, 'OR', ma['method'], ma['swap_events'])\n",
    "            sim = get_stats_from_r(sim_r, 'OR', ma['random'])\n",
    "            results[sim_method][quant_change(baseline, sim)] += 1\n",
    "            sig_flow[sim_method].append(quant_flow(baseline, sim))\n",
    "            \n",
    "        # characteristics of lost/found studies            \n",
    "        char_sample_size[sim_method][\"included\"].extend([(int(r['int_events']) + int(r['cnt_events'])) for r in included_data])\n",
    "        char_sample_size[sim_method][\"excluded\"].extend([(int(r['int_events']) + int(r['cnt_events'])) for r in excluded_data])\n",
    "\n",
    "        if ma['bias_include']:\n",
    "            # exclude reviews which might give misleading results\n",
    "            for d in domains:\n",
    "                char_bias[sim_method][d][\"included\"].extend([r[d] for r in included_data])\n",
    "                char_bias[sim_method][d][\"excluded\"].extend([r[d] for r in excluded_data])\n",
    "\n",
    "        \n",
    "        \n",
    "        "
   ]
  },
  {
   "cell_type": "code",
   "execution_count": 462,
   "metadata": {
    "collapsed": true
   },
   "outputs": [],
   "source": [
    "# convert the lists into numpy arrays\n",
    "\n",
    "\n",
    "for s in sim_codes:\n",
    "    char_includes[s][\"included\"] = np.array(char_includes[s][\"included\"])\n",
    "    char_includes[s][\"total\"] = np.array(char_includes[s][\"total\"])\n",
    "    \n",
    "    char_sample_size[s][\"included\"] = np.array(char_sample_size[s][\"included\"])\n",
    "    char_sample_size[s][\"excluded\"] = np.array(char_sample_size[s][\"excluded\"])\n",
    "\n",
    "    for d in domains:\n",
    "        char_bias[s][d][\"included\"] = np.array(char_bias[s][d][\"included\"])\n",
    "        char_bias[s][d][\"excluded\"] = np.array(char_bias[s][d][\"excluded\"])\n",
    "\n"
   ]
  },
  {
   "cell_type": "code",
   "execution_count": 463,
   "metadata": {
    "collapsed": true
   },
   "outputs": [],
   "source": [
    "# OUTPUTS\n",
    "\n",
    "# functions for table data styling\n",
    "\n",
    "def fraction_format1(num, denom):\n",
    "    # for when N=whatever in table column\n",
    "    return \"{:,} ({:.1f}%)\".format(num, (100*float(num)/float(denom)))\n",
    "    \n",
    "def fraction_format2(num, denom):\n",
    "    # for when denominator changes so needs to be reported each time\n",
    "    return \"{:,}/{:,} ({:.1f}%)\".format(num, denom, (100*float(num)/float(denom)))\n",
    "    "
   ]
  },
  {
   "cell_type": "code",
   "execution_count": 464,
   "metadata": {
    "collapsed": true
   },
   "outputs": [],
   "source": [
    "# Generate Table 1: effect of simulation on MA inclusion + results\n",
    "\n",
    "table_out = []\n",
    "\n",
    "for s, sim_title in zip(sim_codes, sim_titles):\n",
    "\n",
    "    table_row = OrderedDict()\n",
    "    \n",
    "    # First add raw numbers includes/excludeds\n",
    "    \n",
    "    table_row['Strategy'] = sim_title\n",
    "    table_row['Total studies found (N = {:,})'.format(total_studies)] = fraction_format1(char_includes[s][\"included\"].sum(), char_includes[s][\"total\"].sum())\n",
    "    table_row['Median studies lost per meta-analysis (IQR) [baseline {:.0f}, IQR {:.0f}–{:.0f}]'.format(*median_studies_ma)] = \\\n",
    "        \"{:.0f} ({:.0f}–{:.0f})\".format(*np.percentile(char_includes[s]['total'] - char_includes[s]['included'], [50 ,25, 75]))\n",
    "        \n",
    "    for change_cat in change_cats:\n",
    "        table_row[change_cat] = fraction_format1(results[s][change_cat], total_ma)\n",
    "        \n",
    "    table_out.append(table_row)\n",
    "    \n"
   ]
  },
  {
   "cell_type": "code",
   "execution_count": 515,
   "metadata": {
    "collapsed": true,
    "scrolled": false
   },
   "outputs": [],
   "source": [
    "# generate table 3\n",
    "\n",
    "table3 = pd.DataFrame(table_out)\n",
    "table3.set_index('Strategy', inplace=True)\n",
    "table3.to_csv('out/Table_3.csv')\n"
   ]
  },
  {
   "cell_type": "code",
   "execution_count": 466,
   "metadata": {
    "collapsed": true
   },
   "outputs": [],
   "source": [
    "# statistics for comparing groups\n",
    "\n",
    "def format_p(p):\n",
    "    if p<0.001:\n",
    "        return \"<0.001\"\n",
    "    elif p<0.01:\n",
    "        return \"{:.3f}\".format(p)\n",
    "    else:\n",
    "        return \"{:.2f}\".format(p)\n",
    "\n",
    "\n",
    "def chi_sq_p(n1, d1, n2, d2):\n",
    "    \"\"\" returns formatted string of P value\n",
    "        from chi squared test\"\"\"\n",
    "    cs = robjects.r['chisq.test'](np.array([[n1, d1-n1], [n2, d2-n2]]))\n",
    "    \n",
    "    p = cs.rx('p.value')[0][0]\n",
    "    return format_p(p)\n",
    "    \n",
    "def t_test_p(v1, v2):\n",
    "    \"\"\" returns formatted string of P value\n",
    "        from 2 sample t test  \"\"\"\n",
    "    tt = robjects.r['t.test'](v1, v2)\n",
    "    \n",
    "    p = tt.rx('p.value')[0][0]\n",
    "    \n",
    "    return format_p(p)"
   ]
  },
  {
   "cell_type": "code",
   "execution_count": 467,
   "metadata": {
    "collapsed": true
   },
   "outputs": [],
   "source": [
    "# generate Table 4\n",
    "\n",
    "header_texts = [\"Sample size, mean (SD)\"] + [\"{} (high or unclear risk of bias)\".format(t) for t in domains]\n",
    "\n",
    "header = pd.MultiIndex.from_product([header_texts,\n",
    "                                     ['studies lost','studies found','P']],\n",
    "                                    names=['Characteristic','Strategy'])\n",
    "\n",
    "\n",
    "table_out = []\n",
    "\n",
    "for s, sim_title in zip(sim_codes, sim_titles):\n",
    "    \n",
    "    table_row = []\n",
    "    \n",
    "    \n",
    "    # sample sizes, means, SDs and Ps\n",
    "        \n",
    "    in_mean = char_sample_size[s]['included'].mean()\n",
    "    in_sd = np.std(char_sample_size[s]['included'])\n",
    "    \n",
    "    out_mean = char_sample_size[s]['excluded'].mean()\n",
    "    out_sd = np.std(char_sample_size[s]['excluded'])\n",
    "    \n",
    "    p = t_test_p(char_sample_size[s]['included'], char_sample_size[s]['excluded'])\n",
    "    \n",
    "    formatted_result = ['{:.1f} ({:.1f})'.format(out_mean, out_sd),\n",
    "                        '{:.1f} ({:.1f})'.format(in_mean, in_sd),\n",
    "                        '{}'.format(p)]\n",
    "    \n",
    "    table_row.extend(formatted_result)\n",
    "    \n",
    "    # risks of bias\n",
    "    \n",
    "    for d in domains:\n",
    "        \n",
    "        in_num = np.in1d(char_bias[s][d]['included'],['HIGH/UNCLEAR']).sum()\n",
    "        in_denom = np.in1d(char_bias[s][d]['included'],['HIGH/UNCLEAR', 'LOW']).sum()\n",
    "        in_pc = 100*float(in_num)/in_denom\n",
    "        \n",
    "        out_num = np.in1d(char_bias[s][d]['excluded'],['HIGH/UNCLEAR']).sum()\n",
    "        out_denom = np.in1d(char_bias[s][d]['excluded'],['HIGH/UNCLEAR', 'LOW']).sum()\n",
    "        out_pc = 100*float(out_num)/out_denom\n",
    "\n",
    "        \n",
    "\n",
    "        p = chi_sq_p(in_denom-in_num, in_denom, out_denom-out_num, out_denom)\n",
    "        \n",
    "        formatted_result = ['{:,}/{:,} ({:.0f}%)'.format(out_num, out_denom, out_pc),\n",
    "                            '{:,}/{:,} ({:.0f}%)'.format(in_num, in_denom, in_pc),\n",
    "                            '{}'.format(p)]\n",
    "        \n",
    "        table_row.extend(formatted_result)\n",
    "        \n",
    "    table_out.append(table_row)\n",
    "    \n",
    "\n"
   ]
  },
  {
   "cell_type": "code",
   "execution_count": 468,
   "metadata": {
    "collapsed": true
   },
   "outputs": [],
   "source": [
    "table4 = pd.DataFrame(table_out, \n",
    "                  index=sim_titles, \n",
    "                  columns=header)\n",
    "table4.to_clipboard()"
   ]
  },
  {
   "cell_type": "code",
   "execution_count": 507,
   "metadata": {
    "collapsed": true,
    "scrolled": true
   },
   "outputs": [],
   "source": [
    "table4.to_csv('out/table4.csv')"
   ]
  },
  {
   "cell_type": "code",
   "execution_count": 508,
   "metadata": {
    "collapsed": true
   },
   "outputs": [],
   "source": [
    "# generate data for stacked bars\n",
    "\n",
    "table_out = []\n",
    "\n",
    "for s, sim_title in zip(sim_codes, sim_titles):\n",
    "\n",
    "    table_row = OrderedDict()\n",
    "    \n",
    "    # First add raw numbers includes/excludeds\n",
    "    \n",
    "    table_row['Strategy'] = sim_title\n",
    "        \n",
    "    accum_sum = 0.\n",
    "    \n",
    "    for change_cat in change_cats:\n",
    "        # need to get accumlative sum for the area plot\n",
    "        # plus also combine some groups\n",
    "        \n",
    "        skip_groups = [\"Significant to non-significant\", \"Non-significant to significant\", \"All events lost\"]\n",
    "        accum_sum += float(results[s][change_cat])/float(total_ma)        \n",
    "        if change_cat in skip_groups:\n",
    "            continue\n",
    "        \n",
    "        # plus make the remaining names cover all the subgroups\n",
    "        if change_cat == \"Change in effect direction\":\n",
    "            change_cat = \"Change in statistical significance\"\n",
    "            \n",
    "        if change_cat == \"All studies lost\":\n",
    "            change_cat = \"All data lost\"\n",
    "        \n",
    "        \n",
    "        \n",
    "        table_row[change_cat] = accum_sum\n",
    "        \n",
    "    table_out.append(table_row)\n"
   ]
  },
  {
   "cell_type": "code",
   "execution_count": 509,
   "metadata": {
    "collapsed": true
   },
   "outputs": [],
   "source": [
    "accum = pd.DataFrame(table_out)"
   ]
  },
  {
   "cell_type": "code",
   "execution_count": 510,
   "metadata": {
    "collapsed": true
   },
   "outputs": [],
   "source": [
    "import matplotlib as mpl\n",
    "from matplotlib import pyplot as plt\n",
    "\n",
    "import seaborn as sns\n",
    "%matplotlib inline"
   ]
  },
  {
   "cell_type": "code",
   "execution_count": 513,
   "metadata": {
    "scrolled": true
   },
   "outputs": [
    {
     "data": {
      "image/png": "[encoded data removed]",
      "text/plain": [
       "<matplotlib.figure.Figure at 0x7f78111d8cf8>"
      ]
     },
     "metadata": {},
     "output_type": "display_data"
    }
   ],
   "source": [
    "colnames=list(accum)[1:]\n",
    "colnames.reverse()\n",
    "\n",
    "sns.set_color_codes(\"bright\")\n",
    "sns.set_style(\"white\")\n",
    "sns.set_color_codes(\"bright\")\n",
    "\n",
    "plt.rcParams['font.family'] = 'sans-serif'\n",
    "plt.rcParams['font.weight'] = 'normal'\n",
    "plt.rcParams['font.size'] = 32\n",
    "\n",
    "f, ax = plt.subplots(figsize=(16, 10))\n",
    "\n",
    "pal= ['#969696', '#d7191c', '#fdae61', '#ffffbf', '#abd9e9', '#2c7bb6']\n",
    "\n",
    "for cn, color in zip(colnames, ['#969696'] + sns.color_palette(\"RdBu\", 5) ):\n",
    "    sns.barplot(x=cn, y=\"Strategy\", data=accum,\n",
    "            label=cn, color=color)\n",
    "\n",
    "ax.set_xlabel('')\n",
    "ax.set_ylabel('')\n",
    "\n",
    "sns.despine(left=True, bottom=True, right=True)\n",
    "\n",
    "lgd = f.legend(bbox_to_anchor=(1.1, 0.7), loc=2, borderaxespad=0.)\n",
    "f.savefig('out/area_plot.pdf', bbox_extra_artists=(lgd,), bbox_inches='tight')"
   ]
  },
  {
   "cell_type": "code",
   "execution_count": 474,
   "metadata": {
    "collapsed": true
   },
   "outputs": [],
   "source": [
    "for s in sim_codes:\n",
    "    sig_flow[s] = pd.DataFrame(sig_flow[s])"
   ]
  },
  {
   "cell_type": "code",
   "execution_count": 475,
   "metadata": {
    "collapsed": true
   },
   "outputs": [],
   "source": [
    "from ipysankeywidget import SankeyWidget\n",
    "from ipywidgets import Layout\n"
   ]
  },
  {
   "cell_type": "code",
   "execution_count": 480,
   "metadata": {
    "collapsed": true
   },
   "outputs": [],
   "source": [
    "sankeys = []\n",
    "titles = []\n",
    "\n",
    "for s in sim_codes:\n",
    "\n",
    "    r = sig_flow[s].groupby(['Systematic review', 'Rapid review']).size().to_frame().to_dict()[0]\n",
    "\n",
    "    out = []\n",
    "    for k, v in r.items():\n",
    "        out.append({\"source\": k[0]+\"-s\", \"target\": k[1]+\"-t\", \"value\":v, \"type\":k[1]+\"-t\"})\n",
    "    sankeys.append(SankeyWidget(links=out))\n",
    "    titles.append('flow_{}.svg'.format(s))"
   ]
  },
  {
   "cell_type": "code",
   "execution_count": 514,
   "metadata": {
    "collapsed": true
   },
   "outputs": [],
   "source": [
    "\n",
    "for i in range(len(sim_codes)):\n",
    "    s = sim_codes[i] \n",
    "    sig_flow[s].groupby(['Systematic review', 'Rapid review']).size().to_frame().to_csv('out/flow_{}.csv'.format(s))\n",
    "    sankeys[i]\n",
    "    sankeys[i].save_svg('out/flow_{}.svg'.format(s))"
   ]
  },
  {
   "cell_type": "code",
   "execution_count": 493,
   "metadata": {},
   "outputs": [
    {
     "data": {
      "application/vnd.jupyter.widget-view+json": {
       "model_id": "6b18cea9df0445a488254c825b697c56",
       "version_major": 2,
       "version_minor": 0
      },
      "text/plain": [
       "A Jupyter Widget"
      ]
     },
     "metadata": {},
     "output_type": "display_data"
    }
   ],
   "source": [
    "sankeys[i]"
   ]
  },
  {
   "cell_type": "code",
   "execution_count": null,
   "metadata": {
    "collapsed": true
   },
   "outputs": [],
   "source": []
  }
 ],
 "metadata": {
  "kernelspec": {
   "display_name": "Python [conda env:rr2dev]",
   "language": "python",
   "name": "conda-env-rr2dev-py"
  },
  "language_info": {
   "codemirror_mode": {
    "name": "ipython",
    "version": 3
   },
   "file_extension": ".py",
   "mimetype": "text/x-python",
   "name": "python",
   "nbconvert_exporter": "python",
   "pygments_lexer": "ipython3",
   "version": "3.5.4"
  }
 },
 "nbformat": 4,
 "nbformat_minor": 2
}
